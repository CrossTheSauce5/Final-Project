{
 "cells": [
  {
   "cell_type": "markdown",
   "metadata": {},
   "source": [
    "# Best Neighborhood in Pittsburgh\n",
    "## Team: Urban Munchers"
   ]
  },
  {
   "cell_type": "markdown",
   "metadata": {},
   "source": [
    "### Introduction\n",
    "asdf"
   ]
  },
  {
   "cell_type": "markdown",
   "metadata": {},
   "source": [
    "### Metric\n",
    "Our metric was determined through these three datasets:"
   ]
  },
  {
   "cell_type": "markdown",
   "metadata": {},
   "source": [
    "#### Trees\n",
    "Given that our overarching metric for the \"best\" neighborhood in Pittsburgh are neighborhoods that are best suited for younger people that thrive on convenience and cheap living, finding neighborhoods with the worst quality or quantity of trees. Although the connection might not be inherently obvious, neighborhoods that have less trees tend be areas where cheaper housing and cheaper food options are more condensed. During my search for finding the neighborhoods with these qualities, I found that Hays, Glen Hazel, and South Shore are the neighborhoods with the least amount of trees and Allegheny Center, Perry North, and Troy Hill are neighborhoods with the smallest trees. But here are the winnners of each category:\n",
    "\n",
    "* Least Amount of Trees: Mays\n",
    "\n",
    "* Smallest Trees: Allegheny Center\n",
    "\n",
    "Although I chose two categories to represent my metric, I believe that the nieghborhood with the fewest trees--Hays--wins this metric overall. At least the neighborhood that has the lowest trees has trees that can grow, but the one with the fewest just does not have as much trees overall."
   ]
  },
  {
   "cell_type": "markdown",
   "metadata": {},
   "source": [
    "### The \"Best\" Neighborhood\n",
    "asdf"
   ]
  },
  {
   "cell_type": "markdown",
   "metadata": {},
   "source": [
    "### Conclusion\n",
    "asdffd"
   ]
  }
 ],
 "metadata": {
  "kernelspec": {
   "display_name": "Python 3",
   "language": "python",
   "name": "python3"
  },
  "language_info": {
   "codemirror_mode": {
    "name": "ipython",
    "version": 3
   },
   "file_extension": ".py",
   "mimetype": "text/x-python",
   "name": "python",
   "nbconvert_exporter": "python",
   "pygments_lexer": "ipython3",
   "version": "3.8.3"
  }
 },
 "nbformat": 4,
 "nbformat_minor": 4
}
